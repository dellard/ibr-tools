{
 "cells": [
  {
   "cell_type": "markdown",
   "metadata": {},
   "source": [
    "Copyright (C) 2020-2024 - Raytheon BBN Technologies Corp.\n",
    "\n",
    "Licensed under the Apache License, Version 2.0 (the \"License\");\n",
    "you may not use this file except in compliance with the License.\n",
    "\n",
    "You may obtain a copy of the License at\n",
    "http://www.apache.org/licenses/LICENSE-2.0.\n",
    "\n",
    "Unless required by applicable law or agreed to in writing,\n",
    "software distributed under the License is distributed on an\n",
    "\"AS IS\" BASIS, WITHOUT WARRANTIES OR CONDITIONS OF ANY KIND,\n",
    "either express or implied. See the License for the specific\n",
    "language governing permissions and limitations under the License.\n",
    "\n",
    "Distribution Statement \"A\" (Approved for Public Release,\n",
    "Distribution Unlimited).\n",
    "\n",
    "This material is based upon work supported by the Defense\n",
    "Advanced Research Projects Agency (DARPA) under Contract No.\n",
    "HR001119C0102.  The opinions, findings, and conclusions stated\n",
    "herein are those of the authors and do not necessarily reflect\n",
    "those of DARPA.\n"
   ]
  },
  {
   "cell_type": "markdown",
   "metadata": {},
   "source": [
    "# IP Device Data Processor\n",
    "This file combines new Device types data with the existing device types database\n",
    "\n",
    "Before running this, install and run lift https://github.com/trylinux/lift and save output(s) to * .txt * file(s)\n",
    "The output of the lift generated text file will be processed in this file and combined with the device types database. This outputs two different files:\n",
    "1. Updated devices database file\n",
    "2. File containing frequency counts of all the words in results from lift"
   ]
  },
  {
   "cell_type": "code",
   "execution_count": null,
   "metadata": {},
   "outputs": [],
   "source": [
    "## Imports\n",
    "import pandas as pd\n",
    "import numpy as np\n",
    "import matplotlib.pyplot as plt\n",
    "import csv\n",
    "import os\n",
    "import re\n",
    "from collections import Counter"
   ]
  },
  {
   "cell_type": "markdown",
   "metadata": {},
   "source": [
    "### User Defined Variables"
   ]
  },
  {
   "cell_type": "code",
   "execution_count": null,
   "metadata": {},
   "outputs": [],
   "source": [
    "\n",
    "# Set value to 1 to see intermediate outputs for debugging. 0 otherwise (recommended)\n",
    "debug = 0\n",
    "\n",
    "# ports of interest in the data\n",
    "ports = [80, 443]\n",
    "\n",
    "device_types = ['Server', 'Router', 'Recorder', 'Camera', 'NVR', 'HVR', 'DVR']\n",
    "\n",
    "# Full path to directory where lift extracted device data is stored (note it will read all .txt files in that directory)\n",
    "dir_path = r'/home/nice-user/lift-data/'\n",
    "\n",
    "# File Name (with Path) where all the IPs sent for finding devices are stored\n",
    "ip_file = r'outputs/IPsForDeviceTypes.txt'\n",
    "\n",
    "# File (with Path) where the most commonly occuring files will be \n",
    "word_counts_file = 'outputs/word_counts.csv'\n",
    "\n",
    "# (Optional) Set 1 if you have an existing Geolocations database to merge, 0 otherwise\n",
    "existing_device_types_db = 0\n",
    "\n",
    "# File Name (with Path) where the Devices database will be written. \n",
    "# Please note that if you are merging an existing Geolocations DB, it will read this file, merge the new data with it, \n",
    "# and then overwrite it. \n",
    "devices_db_file = 'db/full_devices_db.csv'\n"
   ]
  },
  {
   "cell_type": "markdown",
   "metadata": {},
   "source": [
    "### Initialization of Other Variables"
   ]
  },
  {
   "cell_type": "code",
   "execution_count": null,
   "metadata": {},
   "outputs": [],
   "source": [
    "# Initialize variables\n",
    "device_df = pd.DataFrame(columns=['Original_Device_Info','Timestamp', 'IP', 'Port', 'Device_Info', 'Device_Type'])\n",
    "\n",
    "if(dir_path[len(dir_path)-1] != '/'):\n",
    "    dir_path = dir_path + '/'\n",
    "    \n",
    "if debug == 1:\n",
    "    print(dir_path)\n",
    "    display(device_df)\n"
   ]
  },
  {
   "cell_type": "markdown",
   "metadata": {},
   "source": [
    "### Read and Process the Data"
   ]
  },
  {
   "cell_type": "code",
   "execution_count": null,
   "metadata": {},
   "outputs": [],
   "source": [
    "# String formatting function\n",
    "\n",
    "def process_string(line):\n",
    "    line = line.replace('/', ' ')\n",
    "    line = line.replace('=', ' ')\n",
    "    line = line.replace('\"', ' ')\n",
    "    line = line.replace('(', ' ')\n",
    "    line = line.replace(')', ' ')\n",
    "    line = line.replace('[', ' ')\n",
    "    line = line.replace(']', ' ')\n",
    "    line = line.replace(':', ' ')\n",
    "    line = line.replace('|', ' ')\n",
    "    line = ' '.join(line.split())\n",
    "    line = line.lower()\n",
    "    return line"
   ]
  },
  {
   "cell_type": "code",
   "execution_count": null,
   "metadata": {},
   "outputs": [],
   "source": [
    "print(\"Reading Lift output data\")\n",
    "\n",
    "# list to store files\n",
    "file_list = []\n",
    "\n",
    "# Iterate directory and find all compatible files\n",
    "for file in os.listdir(dir_path):\n",
    "    # check only text files and add them to the list\n",
    "    if file.endswith('.txt'):\n",
    "        file_list.append(file)\n",
    "\n",
    "# if there is 1 or more file type of interest\n",
    "if len(file_list)>=1:\n",
    "\n",
    "    for file in range(0, len(file_list)):\n",
    "        full_file_path = dir_path+file_list[file]\n",
    "        \n",
    "        if debug == 1:\n",
    "            print('\\n full_file_path: ', full_file_path)\n",
    "\n",
    "\n",
    "        # Read data from the file only if the file is not empty, i.e. file size > 0\n",
    "        if os.path.getsize(full_file_path) > 0:\n",
    "            \n",
    "            count = 0\n",
    "            with open(full_file_path, encoding=\"utf8\") as fp:\n",
    "                Lines = fp.readlines()\n",
    "                for line in Lines:\n",
    "                    line = line.replace('\\n', '')\n",
    "\n",
    "                    # If the line is a new device line with timestamp\n",
    "                    if line[0].isdigit():\n",
    "                        \n",
    "                        # Extract and clean the different fields of data\n",
    "                        \n",
    "                        [time_stamp, ip_port, device] = line.split(\"|\", 2)\n",
    "                        device = process_string(device)\n",
    "                        ip_port = ip_port.replace(' ', '')\n",
    "                        [ip, port] = ip_port.split(\":\")\n",
    "                        if debug == 1:\n",
    "                            print(count, time_stamp, ip, port, device)\n",
    "\n",
    "                        # Add a new row to the dataframe\n",
    "                        current_row = len(device_df)\n",
    "                        device_df.loc[current_row, 'Original_Device_Info'] = line\n",
    "                        device_df.loc[current_row, 'Timestamp'] = time_stamp\n",
    "                        device_df.loc[current_row, 'IP'] = ip                        \n",
    "                        device_df.loc[current_row, 'Port'] = port\n",
    "                        device_df.loc[current_row, 'Device_Info'] = device\n",
    "\n",
    "                    # If the line is a continuation of the previous device\n",
    "                    else:\n",
    "\n",
    "                        # Extract and clean the different fields of data\n",
    "                        device = process_string(line)\n",
    "                        if debug == 1:\n",
    "                            print(count, device)\n",
    "\n",
    "                        # Update the previous row of the dataframe\n",
    "                        update_row = len(device_df)-1\n",
    "                        \n",
    "                        previous_val = device_df.loc[update_row, 'Original_Device_Info']\n",
    "                        device_df.loc[update_row, 'Original_Device_Info'] = f'{previous_val} {line}'\n",
    "                        \n",
    "                        \n",
    "                        previous_val = device_df.loc[update_row, 'Device_Info']\n",
    "                        device_df.loc[update_row, 'Device_Info'] = f'{previous_val} {device}'\n",
    "\n",
    "                    count += 1"
   ]
  },
  {
   "cell_type": "code",
   "execution_count": null,
   "metadata": {},
   "outputs": [],
   "source": [
    "device_df = device_df.drop_duplicates(subset=['IP'])\n",
    "device_df['Port'] = device_df['Port'].astype(int)\n",
    "\n",
    "\n",
    "if debug == 1:\n",
    "    display(device_df)\n"
   ]
  },
  {
   "cell_type": "markdown",
   "metadata": {},
   "source": [
    "### Generate and save file with the recurrence of each word "
   ]
  },
  {
   "cell_type": "code",
   "execution_count": null,
   "metadata": {},
   "outputs": [],
   "source": [
    "# Count the number of words and print them to a file \n",
    "\n",
    "# Combine all description rows into a single string\n",
    "all_devices = \" \".join(device_df[\"Device_Info\"].tolist())\n",
    "\n",
    "word_counts = Counter(all_devices.split())\n",
    "   \n",
    "word_counts_dict = dict(word_counts)\n",
    "word_counts_df = pd.DataFrame([word_counts_dict]).T.reset_index()\n",
    "word_counts_df = word_counts_df.rename(columns = {'index': 'Word', 0: 'Count'})\n",
    "\n",
    "word_counts_df.to_csv(word_counts_file, index = False)\n",
    "\n",
    "if debug == 1:\n",
    "    display(word_counts_df)"
   ]
  },
  {
   "cell_type": "markdown",
   "metadata": {},
   "source": [
    "### Assign Device Types"
   ]
  },
  {
   "cell_type": "code",
   "execution_count": null,
   "metadata": {},
   "outputs": [],
   "source": [
    "\n",
    "if len(device_types) == 1:\n",
    "    device_df['Device_Type'] = device_types[0]\n",
    "elif len(device_types) > 1:\n",
    "    device_df['Device_Type'] = device_types[0]\n",
    "    for i in range(1, len(device_types)):\n",
    "        device_df.loc[device_df['Device_Info'].str.contains(device_types[i].lower()), 'Device_Type'] = device_types[i]\n",
    "else: \n",
    "    device_df['Device_Type'] = 'Server'\n",
    "\n",
    "if debug == 1:\n",
    "    display(device_df)\n"
   ]
  },
  {
   "cell_type": "markdown",
   "metadata": {},
   "source": [
    "### Merge with Existing Device Types (if needed) and write the device types database"
   ]
  },
  {
   "cell_type": "code",
   "execution_count": null,
   "metadata": {},
   "outputs": [],
   "source": [
    "if existing_device_types_db == 1:\n",
    "    try:\n",
    "        print(\"Merging with Previous Geolocations data\")\n",
    "\n",
    "        database_device_types = pd.read_csv(devices_db_file)\n",
    "\n",
    "        if debug == 1:\n",
    "            display(database_device_types)\n",
    "    except:\n",
    "        sys.exit(f'Problem with reading geolocations database file ({devices_db_file}). Check if the path is correct')\n",
    "    "
   ]
  },
  {
   "cell_type": "code",
   "execution_count": null,
   "metadata": {},
   "outputs": [],
   "source": [
    "if existing_device_types_db == 1:\n",
    "    if len(device_df) > 0:\n",
    "        full_db = pd.concat([database_device_types, device_df], ignore_index = True)\n",
    "        full_db = full_db.drop_duplicates(subset=['IP'], keep='last')\n",
    "    else:\n",
    "        full_db = database_device_types\n",
    "    \n",
    "    if debug == 1:\n",
    "        display(full_db)"
   ]
  },
  {
   "cell_type": "code",
   "execution_count": null,
   "metadata": {},
   "outputs": [],
   "source": [
    "if existing_device_types_db == 1:\n",
    "    print(\"Printing new Database to file\")\n",
    "    try:\n",
    "        full_db.to_csv(devices_db_file, index=False)\n",
    "    except:\n",
    "        print(f'Problem writing file ({devices_db_file}). Check if the path is correct or if the file is open elsewhere.')"
   ]
  },
  {
   "cell_type": "markdown",
   "metadata": {},
   "source": [
    "### Read all the original IPs and Compare Data"
   ]
  },
  {
   "cell_type": "code",
   "execution_count": null,
   "metadata": {},
   "outputs": [],
   "source": [
    "print(\"Comparing Lift Output to all IPs sent as input to Lift to see how much data the results were returned for\")\n",
    "\n",
    "all_ips = pd.read_csv(ip_file, header=None)\n",
    "all_ips = all_ips.rename(columns = {0:'IP'})\n",
    "\n",
    "if debug == 1:\n",
    "    display(all_ips)"
   ]
  },
  {
   "cell_type": "code",
   "execution_count": null,
   "metadata": {},
   "outputs": [],
   "source": [
    "precent_values_found = pd.DataFrame(columns = ['Count', 'Percent of Total'])\n",
    "\n",
    "unique_ports = device_df['Port'].unique()\n",
    "print(unique_ports)\n",
    "\n",
    "total_unique_ips = len(all_ips)\n",
    "for port in unique_ports:\n",
    "    current_df = device_df[device_df['Port'] == port]\n",
    "    current_df_len = len(current_df)\n",
    "    \n",
    "    current_index = len(precent_values_found)\n",
    "    precent_values_found.loc[port, 'Count'] = current_df_len\n",
    "    precent_values_found.loc[port, 'Percent of Total'] = current_df_len / total_unique_ips * 100\n",
    "    \n",
    "\n",
    "if debug == 1:\n",
    "    display(precent_values_found)\n",
    "    \n"
   ]
  },
  {
   "cell_type": "code",
   "execution_count": null,
   "metadata": {},
   "outputs": [],
   "source": [
    "plt.figure()\n",
    "precent_values_found['Count'].plot.bar(figsize=(14,6), title='Counts of IPs that Returned Responses by Port')\n",
    "plt.xlabel('Port Number')\n",
    "plt.ylabel('Count')\n",
    "\n",
    "plt.figure()\n",
    "precent_values_found['Percent of Total'].plot.bar(figsize=(14,6), title=f'Percent of IPs that Returned Responses from {total_unique_ips} Total')\n",
    "plt.xlabel('Port Number')\n",
    "plt.ylabel('Percent (Value between 0 and 100) ')"
   ]
  },
  {
   "cell_type": "code",
   "execution_count": null,
   "metadata": {},
   "outputs": [],
   "source": [
    "# Breakdown of Device Types\n",
    "device_type_counts = device_df['Device_Type'].value_counts()\n",
    "\n",
    "if debug == 1:\n",
    "    display(device_type_counts)\n",
    "\n",
    "plt.figure()\n",
    "device_type_counts.plot.bar(title='Device Types in Data')\n",
    "plt.xlabel('Device Types')\n",
    "plt.ylabel('Counts')\n"
   ]
  },
  {
   "cell_type": "code",
   "execution_count": null,
   "metadata": {},
   "outputs": [],
   "source": []
  }
 ],
 "metadata": {
  "kernelspec": {
   "display_name": "Python 3",
   "language": "python",
   "name": "python3"
  },
  "language_info": {
   "codemirror_mode": {
    "name": "ipython",
    "version": 3
   },
   "file_extension": ".py",
   "mimetype": "text/x-python",
   "name": "python",
   "nbconvert_exporter": "python",
   "pygments_lexer": "ipython3",
   "version": "3.8.10"
  }
 },
 "nbformat": 4,
 "nbformat_minor": 5
}
