{
 "cells": [
  {
   "cell_type": "markdown",
   "metadata": {},
   "source": [
    "Copyright (C) 2020-2024 - Raytheon BBN Technologies Corp.\n",
    "\n",
    "Licensed under the Apache License, Version 2.0 (the \"License\");\n",
    "you may not use this file except in compliance with the License.\n",
    "\n",
    "You may obtain a copy of the License at\n",
    "http://www.apache.org/licenses/LICENSE-2.0.\n",
    "\n",
    "Unless required by applicable law or agreed to in writing,\n",
    "software distributed under the License is distributed on an\n",
    "\"AS IS\" BASIS, WITHOUT WARRANTIES OR CONDITIONS OF ANY KIND,\n",
    "either express or implied. See the License for the specific\n",
    "language governing permissions and limitations under the License.\n",
    "\n",
    "Distribution Statement \"A\" (Approved for Public Release,\n",
    "Distribution Unlimited).\n",
    "\n",
    "This material is based upon work supported by the Defense\n",
    "Advanced Research Projects Agency (DARPA) under Contract No.\n",
    "HR001119C0102.  The opinions, findings, and conclusions stated\n",
    "herein are those of the authors and do not necessarily reflect\n",
    "those of DARPA.\n"
   ]
  },
  {
   "cell_type": "markdown",
   "metadata": {},
   "source": [
    "# GetIPGeoLocation\n",
    "\n",
    "This file finds geolocations for IPs provided and then merges them with the existing geolocations database \n",
    "\n",
    "The previous database will be written over with the new database\n"
   ]
  },
  {
   "cell_type": "code",
   "execution_count": null,
   "metadata": {},
   "outputs": [],
   "source": [
    "import sys\n",
    "import os\n",
    "import pandas as pd\n",
    "import datetime\n",
    "import ipinfo\n",
    "import ipinfo.exceptions\n",
    "import re\n",
    "import json\n",
    "import urllib3\n",
    "import requests\n",
    "import sys"
   ]
  },
  {
   "cell_type": "markdown",
   "metadata": {},
   "source": [
    "###  User Defined Variables"
   ]
  },
  {
   "cell_type": "code",
   "execution_count": null,
   "metadata": {},
   "outputs": [],
   "source": [
    "# Set value to 1 to see intermediate outputs for debugging. 0 otherwise (recommended)\n",
    "debug = 0\n",
    "\n",
    "# File name with full file path to config.json that contains ipinfo.io keys\n",
    "config_filename = 'config.json'\n",
    "\n",
    "# Location of file that contains all the IPs to extract geo location information for \n",
    "geo_locations_ip_file = 'outputs/IPsForGeoLocation.txt'\n",
    "\n",
    "# (Optional) Set 1 if you have an existing Geolocations database to merge, 0 otherwise\n",
    "existing_geolocations_db = 0\n",
    "\n",
    "# (Optional) Location of the current geolocation database file with path, must be specified if previous input is 1\n",
    "geo_location_db_file = 'db/full_geolocations_db.csv'"
   ]
  },
  {
   "cell_type": "markdown",
   "metadata": {},
   "source": [
    "### Initialization of Other Variables"
   ]
  },
  {
   "cell_type": "code",
   "execution_count": null,
   "metadata": {},
   "outputs": [],
   "source": [
    "columnns = ['Source_Address', 'City', 'Region', 'Country', 'Longitude', 'Latitude', 'AS_Number', 'AS_Name', 'Timestamp']\n",
    "source_geo_locations = pd.DataFrame(columns=columnns)\n",
    "\n",
    "if debug == 1:\n",
    "    source_geo_locations.head()"
   ]
  },
  {
   "cell_type": "code",
   "execution_count": null,
   "metadata": {},
   "outputs": [],
   "source": [
    "try: \n",
    "    # opening the file in read mode \n",
    "    my_file = open(geo_locations_ip_file, \"r\") \n",
    "\n",
    "    # reading the file \n",
    "    data = my_file.read() \n",
    "\n",
    "    # replacing end of line('/n') with ' ' and \n",
    "    # splitting the text it further when '.' is seen. \n",
    "    source_addresses = data.replace('\\n', ' ').split(' ') \n",
    "\n",
    "    # printing the data \n",
    "\n",
    "    my_file.close() \n",
    "    \n",
    "except:\n",
    "    sys.exit(f'Problem with reading geolocations IP file ({geo_locations_ip_file}). Check if the path is correct')\n",
    "\n",
    "# Remove last line if the last line is empty\n",
    "if source_addresses[len(source_addresses)-1] == '':\n",
    "    source_addresses.pop()\n",
    "    \n",
    "if debug == 1:\n",
    "    print(len(source_addresses))\n"
   ]
  },
  {
   "cell_type": "code",
   "execution_count": null,
   "metadata": {},
   "outputs": [],
   "source": [
    "print ('Extracting IP Info Keys')\n",
    "\n",
    "try:\n",
    "    config = json.load(open(config_filename, 'r'))\n",
    "    ipinfo_keys = config['ipinfo_keys']\n",
    "\n",
    "    if debug == 1:\n",
    "        print(ipinfo_keys)\n",
    "except:\n",
    "    sys.exit(f'Problem with reading config file ({config_filename}). Check if the path is correct')"
   ]
  },
  {
   "cell_type": "code",
   "execution_count": null,
   "metadata": {},
   "outputs": [],
   "source": [
    "def get_handler(ip_counts):\n",
    "    handlers = {}\n",
    "    keys_to_delete = []\n",
    "\n",
    "    if not ipinfo_keys:\n",
    "        return handlers\n",
    "\n",
    "    for key in ipinfo_keys.keys():\n",
    "        if ip_counts <= ipinfo_keys[key]:\n",
    "            num_to_use = ip_counts\n",
    "        else:\n",
    "            num_to_use = ipinfo_keys[key]\n",
    "\n",
    "        handlers[ipinfo.getHandler(key)] = num_to_use\n",
    "\n",
    "        ipinfo_keys[key] -= num_to_use\n",
    "        if ipinfo_keys[key] <= 0:\n",
    "            keys_to_delete.append(key)\n",
    "\n",
    "        ip_counts -= num_to_use\n",
    "        if ip_counts <= 0:\n",
    "            break\n",
    "\n",
    "    for key in keys_to_delete:\n",
    "        ipinfo_keys.pop(key)\n",
    "\n",
    "    if not ipinfo_keys:\n",
    "        print('\\033[91m' + \"No IPinfo keys left\" + '\\033[0m')\n",
    "        print('\\033[93m' + \"Stopping geolocation lookup\" + '\\033[0m')\n",
    "\n",
    "    return handlers"
   ]
  },
  {
   "cell_type": "code",
   "execution_count": null,
   "metadata": {},
   "outputs": [],
   "source": [
    "def save_geolocation(geolocation):\n",
    "\n",
    "    if geolocation.get('bogon', False):\n",
    "        print(f\"No Information available for IP: {geolocation['ip']}\")\n",
    "        return\n",
    "    \n",
    "    print(geolocation)\n",
    "    \n",
    "    current_row = len(source_geo_locations)\n",
    "    \n",
    "    ip = geolocation.get('ip')\n",
    "    if ip:\n",
    "        source_geo_locations.loc[current_row, 'Source_Address'] = ip\n",
    "    \n",
    "    city = geolocation.get('city')\n",
    "    if city:\n",
    "        source_geo_locations.loc[current_row, 'City'] = city\n",
    "        \n",
    "    region = geolocation.get('region')\n",
    "    if region:\n",
    "        source_geo_locations.loc[current_row, 'Region'] = region\n",
    "        \n",
    "    country_name = geolocation.get('country_name')\n",
    "    if country_name:\n",
    "        source_geo_locations.loc[current_row, 'Country'] = country_name\n",
    "        \n",
    "    longitude = geolocation.get('longitude')\n",
    "    if longitude:\n",
    "        source_geo_locations.loc[current_row, 'Longitude'] = longitude\n",
    "    \n",
    "    latitude = geolocation.get('latitude')\n",
    "    if latitude:\n",
    "        source_geo_locations.loc[current_row, 'Latitude'] = latitude\n",
    "        \n",
    "    org = geolocation.get('org')\n",
    "    if org:\n",
    "        as_number, as_name = org.split(' ')[0][2:], ' '.join(org.split(' ')[1:])\n",
    "        source_geo_locations.loc[current_row, 'AS_Number'] = as_number\n",
    "        source_geo_locations.loc[current_row, 'AS_Name'] = as_name\n",
    "    \n",
    "    source_geo_locations.loc[current_row, 'Timestamp'] = datetime.datetime.now().strftime('%m/%d/%Y')\n"
   ]
  },
  {
   "cell_type": "code",
   "execution_count": null,
   "metadata": {},
   "outputs": [],
   "source": [
    "handlers = get_handler(len(source_addresses))\n",
    "for handler, count in handlers.items():\n",
    "    try:\n",
    "        print(\"Extracting IP Geolocations\")\n",
    "        geolocations = handler.getBatchDetails(source_addresses[:count])\n",
    "        source_addresses = source_addresses[count:]\n",
    "        for source_address in geolocations.keys():\n",
    "            save_geolocation(geolocations[source_address])\n",
    "            \n",
    "    except (ipinfo.exceptions.TimeoutExceededError,\n",
    "            requests.exceptions.ReadTimeout, requests.exceptions.Timeout):\n",
    "        sys.stderr.write(f\"IPinfo time exceeded for.\")"
   ]
  },
  {
   "cell_type": "code",
   "execution_count": null,
   "metadata": {},
   "outputs": [],
   "source": [
    "if debug == 1:\n",
    "    display(source_geo_locations)"
   ]
  },
  {
   "cell_type": "code",
   "execution_count": null,
   "metadata": {},
   "outputs": [],
   "source": [
    "source_geo_locations = source_geo_locations.drop_duplicates(subset=['Source_Address'], keep='last')\n",
    "\n",
    "source_geo_locations = source_geo_locations.rename(columns={'Source_Address':'IP' })\n",
    "\n",
    "if debug == 1:\n",
    "    display(source_geo_locations)"
   ]
  },
  {
   "cell_type": "markdown",
   "metadata": {},
   "source": [
    "### Merge with Previous GeoLocations Database"
   ]
  },
  {
   "cell_type": "code",
   "execution_count": null,
   "metadata": {},
   "outputs": [],
   "source": [
    "if existing_geolocations_db == 1:\n",
    "    try:\n",
    "        print(\"Merging with Previous Geolocations data\")\n",
    "\n",
    "        database_geo_locations = pd.read_csv(geo_location_db_file)\n",
    "\n",
    "        if debug == 1:\n",
    "            display(database_geo_locations)\n",
    "    except:\n",
    "        sys.exit(f'Problem with reading geolocations database file ({geo_location_db_file}). Check if the path is correct')\n",
    "    "
   ]
  },
  {
   "cell_type": "code",
   "execution_count": null,
   "metadata": {},
   "outputs": [],
   "source": [
    "if existing_geolocations_db == 1:\n",
    "    if len(source_geo_locations) > 0:\n",
    "        full_db = pd.concat([database_geo_locations, source_geo_locations], ignore_index = True)\n",
    "    else:\n",
    "        full_db = database_geo_locations\n",
    "\n",
    "    if debug == 1:\n",
    "        display(full_db)"
   ]
  },
  {
   "cell_type": "code",
   "execution_count": null,
   "metadata": {},
   "outputs": [],
   "source": [
    "if existing_geolocations_db == 1:\n",
    "    full_db = full_db.drop_duplicates(subset=['IP'], keep='last')\n",
    "\n",
    "    if debug == 1:\n",
    "        display(full_db)"
   ]
  },
  {
   "cell_type": "code",
   "execution_count": null,
   "metadata": {},
   "outputs": [],
   "source": [
    "if existing_geolocations_db == 1:\n",
    "    print(\"Printing new Database to file\")\n",
    "    try:\n",
    "        full_db.to_csv(geo_location_db_file, index=False)\n",
    "    except:\n",
    "        print(f'Problem writing file ({geo_location_db_file}). Check if the path is correct or if the file is open elsewhere.')"
   ]
  },
  {
   "cell_type": "code",
   "execution_count": null,
   "metadata": {},
   "outputs": [],
   "source": []
  }
 ],
 "metadata": {
  "kernelspec": {
   "display_name": "Python 3",
   "language": "python",
   "name": "python3"
  },
  "language_info": {
   "codemirror_mode": {
    "name": "ipython",
    "version": 3
   },
   "file_extension": ".py",
   "mimetype": "text/x-python",
   "name": "python",
   "nbconvert_exporter": "python",
   "pygments_lexer": "ipython3",
   "version": "3.8.10"
  }
 },
 "nbformat": 4,
 "nbformat_minor": 5
}
